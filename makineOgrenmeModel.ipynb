{
 "cells": [
  {
   "cell_type": "code",
   "execution_count": 22,
   "id": "6be8dec1",
   "metadata": {},
   "outputs": [],
   "source": [
    "\n",
    "# 1. Gerekli Kütüphaneleri Yükle\n",
    "import pandas as pd\n",
    "import numpy as np\n",
    "from sklearn.model_selection import train_test_split\n",
    "from sklearn.tree import DecisionTreeRegressor\n",
    "from sklearn.ensemble import RandomForestRegressor\n",
    "from sklearn.linear_model import LinearRegression\n",
    "from sklearn.metrics import mean_squared_error, r2_score"
   ]
  },
  {
   "cell_type": "code",
   "execution_count": 23,
   "id": "55de0101",
   "metadata": {},
   "outputs": [],
   "source": [
    "# 2. Veriyi Yükle\n",
    "df = pd.read_csv('student_data.csv')\n"
   ]
  },
  {
   "cell_type": "code",
   "execution_count": 24,
   "id": "723cb879",
   "metadata": {},
   "outputs": [
    {
     "name": "stdout",
     "output_type": "stream",
     "text": [
      "Sütunlar: ['school', 'sex', 'age', 'address', 'famsize', 'Pstatus', 'Medu', 'Fedu', 'Mjob', 'Fjob', 'reason', 'guardian', 'traveltime', 'studytime', 'failures', 'schoolsup', 'famsup', 'paid', 'activities', 'nursery', 'higher', 'internet', 'romantic', 'famrel', 'freetime', 'goout', 'Dalc', 'Walc', 'health', 'absences', 'G1', 'G2', 'G3']\n"
     ]
    }
   ],
   "source": [
    "# 3. Sütun İsimlerini Kontrol Et (hata vermesin diye)\n",
    "print(\"Sütunlar:\", df.columns.tolist())"
   ]
  },
  {
   "cell_type": "code",
   "execution_count": 25,
   "id": "8e0314bd",
   "metadata": {},
   "outputs": [],
   "source": [
    "# 4. Özellikler (X) ve Hedef (y) Ayır\n",
    "#    -> Hedefimiz artık 'G3' (son dönem notu)\n",
    "X = df.drop('G3', axis=1)\n",
    "y = df['G3']"
   ]
  },
  {
   "cell_type": "code",
   "execution_count": 26,
   "id": "9d584a9f",
   "metadata": {},
   "outputs": [],
   "source": [
    "# 5. Kategorik Değişkenleri Sayısala Çevir (One-Hot Encoding)\n",
    "X = pd.get_dummies(X, drop_first=True)"
   ]
  },
  {
   "cell_type": "code",
   "execution_count": 27,
   "id": "f40c310a",
   "metadata": {},
   "outputs": [],
   "source": [
    "# 6. Veriyi Eğitim ve Test Olarak Böl (%80 Eğitim - %20 Test)\n",
    "X_train, X_test, y_train, y_test = train_test_split(\n",
    "    X, y, test_size=0.2, random_state=42\n",
    ")"
   ]
  },
  {
   "cell_type": "code",
   "execution_count": 28,
   "id": "988b8b86",
   "metadata": {},
   "outputs": [],
   "source": [
    "# 7. Model 1: Decision Tree Regressor\n",
    "dt_model = DecisionTreeRegressor(random_state=42)\n",
    "dt_model.fit(X_train, y_train)\n",
    "y_pred_dt = dt_model.predict(X_test)"
   ]
  },
  {
   "cell_type": "code",
   "execution_count": 29,
   "id": "367e22e6",
   "metadata": {},
   "outputs": [],
   "source": [
    "# 8. Model 2: Random Forest Regressor\n",
    "rf_model = RandomForestRegressor(random_state=42)\n",
    "rf_model.fit(X_train, y_train)\n",
    "y_pred_rf = rf_model.predict(X_test)"
   ]
  },
  {
   "cell_type": "code",
   "execution_count": 30,
   "id": "3025768c",
   "metadata": {},
   "outputs": [],
   "source": [
    "# 9. Model 3: Linear Regression\n",
    "lr_model = LinearRegression()\n",
    "lr_model.fit(X_train, y_train)\n",
    "y_pred_lr = lr_model.predict(X_test)"
   ]
  },
  {
   "cell_type": "code",
   "execution_count": 31,
   "id": "9f5da30d",
   "metadata": {},
   "outputs": [
    {
     "name": "stdout",
     "output_type": "stream",
     "text": [
      "\n",
      "--- Decision Tree Regressor ---\n",
      "Mean Squared Error: 4.2025316455696204\n",
      "R2 Score: 0.795048916950583\n",
      "\n",
      "--- Random Forest Regressor ---\n",
      "Mean Squared Error: 3.797716455696203\n",
      "R2 Score: 0.8147911386865877\n",
      "\n",
      "--- Linear Regression ---\n",
      "Mean Squared Error: 5.656642833231222\n",
      "R2 Score: 0.7241341236974022\n"
     ]
    }
   ],
   "source": [
    "# 10. Sonuçları Değerlendir (MSE ve R2 Score)\n",
    "print(\"\\n--- Decision Tree Regressor ---\")\n",
    "print(\"Mean Squared Error:\", mean_squared_error(y_test, y_pred_dt))\n",
    "print(\"R2 Score:\", r2_score(y_test, y_pred_dt))\n",
    "\n",
    "print(\"\\n--- Random Forest Regressor ---\")\n",
    "print(\"Mean Squared Error:\", mean_squared_error(y_test, y_pred_rf))\n",
    "print(\"R2 Score:\", r2_score(y_test, y_pred_rf))\n",
    "\n",
    "print(\"\\n--- Linear Regression ---\")\n",
    "print(\"Mean Squared Error:\", mean_squared_error(y_test, y_pred_lr))\n",
    "print(\"R2 Score:\", r2_score(y_test, y_pred_lr))"
   ]
  },
  {
   "cell_type": "code",
   "execution_count": null,
   "id": "41d7b18d",
   "metadata": {},
   "outputs": [],
   "source": []
  }
 ],
 "metadata": {
  "kernelspec": {
   "display_name": "Python 3 (ipykernel)",
   "language": "python",
   "name": "python3"
  },
  "language_info": {
   "codemirror_mode": {
    "name": "ipython",
    "version": 3
   },
   "file_extension": ".py",
   "mimetype": "text/x-python",
   "name": "python",
   "nbconvert_exporter": "python",
   "pygments_lexer": "ipython3",
   "version": "3.11.7"
  }
 },
 "nbformat": 4,
 "nbformat_minor": 5
}
